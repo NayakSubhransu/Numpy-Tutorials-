{
 "cells": [
  {
   "cell_type": "markdown",
   "id": "2fbb5d4f-8c7c-4384-8bdc-0c5a358410c2",
   "metadata": {},
   "source": [
    "# Copies and Views"
   ]
  },
  {
   "cell_type": "markdown",
   "id": "2de6fffa-591d-4587-ae97-9d8873d3fac9",
   "metadata": {
    "tags": []
   },
   "source": [
    "## `Understanding Views and Copies`:"
   ]
  },
  {
   "cell_type": "code",
   "execution_count": 2,
   "id": "44ee7771-0040-4174-9d94-52b8d4fe4fe9",
   "metadata": {
    "tags": []
   },
   "outputs": [],
   "source": [
    "import numpy as np\n",
    "\n"
   ]
  },
  {
   "cell_type": "code",
   "execution_count": 3,
   "id": "f2dc44c0-d0c5-456c-92fe-38acc38a3645",
   "metadata": {
    "tags": []
   },
   "outputs": [
    {
     "name": "stdout",
     "output_type": "stream",
     "text": [
      "View Array: [1 2 3 4 5]\n",
      "Copied Array: [1 2 3 4 5]\n"
     ]
    }
   ],
   "source": [
    "# Creating a NumPy array\n",
    "original_array = np.array([1, 2, 3, 4, 5])\n",
    "\n",
    "# Creating a view of the original array\n",
    "array_view = original_array.view()\n",
    "print(\"View Array:\", array_view)\n",
    "\n",
    "# Creating a copy of the original array\n",
    "array_copy = original_array.copy()\n",
    "print(\"Copied Array:\", array_copy)\n"
   ]
  },
  {
   "cell_type": "markdown",
   "id": "cfaceb53-b87e-464b-bd3a-79490f2d4ab1",
   "metadata": {
    "tags": []
   },
   "source": [
    "## View versus Copy:"
   ]
  },
  {
   "cell_type": "code",
   "execution_count": 4,
   "id": "202a4d29-35cc-4535-8970-d6ecffed4769",
   "metadata": {
    "tags": []
   },
   "outputs": [
    {
     "name": "stdout",
     "output_type": "stream",
     "text": [
      "Modified View Array: [100   2   3   4   5]\n",
      "Original Array after modifying view: [100   2   3   4   5]\n",
      "Modified Copied Array: [200   2   3   4   5]\n",
      "Original Array after modifying copy: [100   2   3   4   5]\n"
     ]
    }
   ],
   "source": [
    "# Modifying the view\n",
    "array_view[0] = 100\n",
    "print(\"Modified View Array:\", array_view)\n",
    "print(\"Original Array after modifying view:\", original_array)\n",
    "\n",
    "# Modifying the copy\n",
    "array_copy[0] = 200\n",
    "print(\"Modified Copied Array:\", array_copy)\n",
    "print(\"Original Array after modifying copy:\", original_array)\n"
   ]
  },
  {
   "cell_type": "markdown",
   "id": "71983ede-a494-441b-bc92-bb8e5fc873aa",
   "metadata": {},
   "source": [
    "## Slicing and Views:"
   ]
  },
  {
   "cell_type": "code",
   "execution_count": 6,
   "id": "4c334fde-54f8-4130-b653-e136b47f4ee8",
   "metadata": {
    "tags": []
   },
   "outputs": [
    {
     "name": "stdout",
     "output_type": "stream",
     "text": [
      "View of a Slice of the 2D Array:\n",
      "[[1 2]\n",
      " [4 5]]\n",
      "Modified View of a Slice of the 2D Array:\n",
      "[[100   2]\n",
      " [  4   5]]\n",
      "Original 2D Array after modifying view of the slice:\n",
      "[[100   2   3]\n",
      " [  4   5   6]]\n"
     ]
    }
   ],
   "source": [
    "# Creating a NumPy array\n",
    "original_array_2d = np.array([[1, 2, 3], [4, 5, 6]])\n",
    "\n",
    "# Creating a view of a slice of the original 2D array\n",
    "array_view_slice = original_array_2d[:, :2]\n",
    "print(\"View of a Slice of the 2D Array:\")\n",
    "print(array_view_slice)\n",
    "\n",
    "# Modifying the view of the slice\n",
    "array_view_slice[0, 0] = 100\n",
    "print(\"Modified View of a Slice of the 2D Array:\")\n",
    "print(array_view_slice)\n",
    "print(\"Original 2D Array after modifying view of the slice:\")\n",
    "print(original_array_2d)\n"
   ]
  },
  {
   "cell_type": "markdown",
   "id": "21596a59-79f3-4348-9d2a-12181b50afe9",
   "metadata": {},
   "source": [
    "## Sorting and Searching:"
   ]
  },
  {
   "cell_type": "code",
   "execution_count": 7,
   "id": "33b106ab-9795-4882-bf98-694932d4c37f",
   "metadata": {
    "tags": []
   },
   "outputs": [
    {
     "name": "stdout",
     "output_type": "stream",
     "text": [
      "Sorted Array: [1 2 3 4 5]\n",
      "Index of value 4 in the sorted array: (array([3], dtype=int64),)\n"
     ]
    }
   ],
   "source": [
    "import numpy as np\n",
    "\n",
    "# Sorting an array\n",
    "array_to_sort = np.array([3, 1, 2, 4, 5])\n",
    "sorted_array = np.sort(array_to_sort)\n",
    "print(\"Sorted Array:\", sorted_array)\n",
    "\n",
    "# Searching for elements in a sorted array\n",
    "index_of_value = np.where(sorted_array == 4)\n",
    "print(\"Index of value 4 in the sorted array:\", index_of_value)\n"
   ]
  },
  {
   "cell_type": "markdown",
   "id": "619405e6-5eae-4bce-8ba6-e2db924aeff4",
   "metadata": {},
   "source": [
    "## Unique Elements"
   ]
  },
  {
   "cell_type": "code",
   "execution_count": 8,
   "id": "01b9b97a-7635-4b15-92ad-5413e60d699c",
   "metadata": {
    "tags": []
   },
   "outputs": [
    {
     "name": "stdout",
     "output_type": "stream",
     "text": [
      "Unique Elements in the Array: [1 2 3 4 5]\n"
     ]
    }
   ],
   "source": [
    "# Finding unique elements in an array\n",
    "array_with_duplicates = np.array([1, 2, 3, 2, 4, 1, 5, 4])\n",
    "unique_elements = np.unique(array_with_duplicates)\n",
    "print(\"Unique Elements in the Array:\", unique_elements)\n"
   ]
  },
  {
   "cell_type": "markdown",
   "id": "02d537f7-d0c3-4405-9330-f3f1e5651468",
   "metadata": {},
   "source": [
    "## Set Operations:"
   ]
  },
  {
   "cell_type": "code",
   "execution_count": 9,
   "id": "6f64d5bc-40e1-4467-8d39-7614604e3111",
   "metadata": {
    "tags": []
   },
   "outputs": [
    {
     "name": "stdout",
     "output_type": "stream",
     "text": [
      "Union of two arrays: [1 2 3 4 5 6 7 8]\n",
      "Intersection of two arrays: [4 5]\n",
      "Set difference of two arrays: [1 2 3]\n"
     ]
    }
   ],
   "source": [
    "# Performing set operations on arrays\n",
    "array_set1 = np.array([1, 2, 3, 4, 5])\n",
    "array_set2 = np.array([4, 5, 6, 7, 8])\n",
    "\n",
    "# Union of two arrays\n",
    "union_array = np.union1d(array_set1, array_set2)\n",
    "print(\"Union of two arrays:\", union_array)\n",
    "\n",
    "# Intersection of two arrays\n",
    "intersection_array = np.intersect1d(array_set1, array_set2)\n",
    "print(\"Intersection of two arrays:\", intersection_array)\n",
    "\n",
    "# Set difference of two arrays\n",
    "set_diff_array = np.setdiff1d(array_set1, array_set2)\n",
    "print(\"Set difference of two arrays:\", set_diff_array)\n"
   ]
  },
  {
   "cell_type": "markdown",
   "id": "cb41267d-2d25-4852-9e57-65398769f0ce",
   "metadata": {},
   "source": [
    "## Vector stacking"
   ]
  },
  {
   "cell_type": "code",
   "execution_count": 10,
   "id": "e2925e1a-7198-4b23-a49c-c0535d31f1f8",
   "metadata": {
    "tags": []
   },
   "outputs": [
    {
     "name": "stdout",
     "output_type": "stream",
     "text": [
      "Vertical Stack:\n",
      "[[1 2 3]\n",
      " [4 5 6]]\n",
      "Horizontal Stack:\n",
      "[1 2 3 4 5 6]\n"
     ]
    }
   ],
   "source": [
    "# Vector stacking in NumPy\n",
    "array_x = np.array([1, 2, 3])\n",
    "array_y = np.array([4, 5, 6])\n",
    "\n",
    "# Vertical stacking\n",
    "vertical_stack = np.vstack((array_x, array_y))\n",
    "print(\"Vertical Stack:\")\n",
    "print(vertical_stack)\n",
    "\n",
    "# Horizontal stacking\n",
    "horizontal_stack = np.hstack((array_x, array_y))\n",
    "print(\"Horizontal Stack:\")\n",
    "print(horizontal_stack)\n"
   ]
  },
  {
   "cell_type": "code",
   "execution_count": null,
   "id": "34c4ec9e-a892-4d35-bbeb-782b57c72b85",
   "metadata": {},
   "outputs": [],
   "source": []
  }
 ],
 "metadata": {
  "kernelspec": {
   "display_name": "Python 3 (ipykernel)",
   "language": "python",
   "name": "python3"
  },
  "language_info": {
   "codemirror_mode": {
    "name": "ipython",
    "version": 3
   },
   "file_extension": ".py",
   "mimetype": "text/x-python",
   "name": "python",
   "nbconvert_exporter": "python",
   "pygments_lexer": "ipython3",
   "version": "3.11.5"
  },
  "widgets": {
   "application/vnd.jupyter.widget-state+json": {
    "state": {},
    "version_major": 2,
    "version_minor": 0
   }
  }
 },
 "nbformat": 4,
 "nbformat_minor": 5
}
