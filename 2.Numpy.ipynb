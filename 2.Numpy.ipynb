{
 "cells": [
  {
   "cell_type": "markdown",
   "id": "4fb98922-bc33-46b0-9e70-963cbc9a694f",
   "metadata": {},
   "source": [
    "# Array Operations"
   ]
  },
  {
   "cell_type": "code",
   "execution_count": 1,
   "id": "e4ab75c9-e105-4196-ae35-cbc3ba58e10e",
   "metadata": {
    "tags": []
   },
   "outputs": [],
   "source": [
    "import numpy as np"
   ]
  },
  {
   "cell_type": "markdown",
   "id": "718a7528-7865-4c4a-a1e3-fd953b7fea35",
   "metadata": {},
   "source": [
    "## `Element-wise Operations`:"
   ]
  },
  {
   "cell_type": "code",
   "execution_count": 2,
   "id": "69264805-bd89-457a-9951-9f879062b660",
   "metadata": {
    "tags": []
   },
   "outputs": [
    {
     "name": "stdout",
     "output_type": "stream",
     "text": [
      "Element-wise Addition: [ 7  9 11 13 15]\n",
      "Element-wise Subtraction: [5 5 5 5 5]\n",
      "Element-wise Multiplication: [ 6 14 24 36 50]\n",
      "Element-wise Division: [6.         3.5        2.66666667 2.25       2.        ]\n"
     ]
    }
   ],
   "source": [
    "\n",
    "# Element-wise operations\n",
    "array_a = np.array([1, 2, 3, 4, 5])\n",
    "array_b = np.array([6, 7, 8, 9, 10])\n",
    "\n",
    "# Addition\n",
    "result_addition = array_a + array_b\n",
    "print(\"Element-wise Addition:\", result_addition)\n",
    "\n",
    "# Subtraction\n",
    "result_subtraction = array_b - array_a\n",
    "print(\"Element-wise Subtraction:\", result_subtraction)\n",
    "\n",
    "# Multiplication\n",
    "result_multiplication = array_a * array_b\n",
    "print(\"Element-wise Multiplication:\", result_multiplication)\n",
    "\n",
    "# Division\n",
    "result_division = array_b / array_a\n",
    "print(\"Element-wise Division:\", result_division)\n"
   ]
  },
  {
   "cell_type": "markdown",
   "id": "960e8c30-e65a-4e7e-9e06-40147348f285",
   "metadata": {
    "tags": []
   },
   "source": [
    "## `Broadcasting`:"
   ]
  },
  {
   "cell_type": "code",
   "execution_count": 3,
   "id": "c9ee986c-bb05-4239-921f-ee14cc73dc0e",
   "metadata": {
    "tags": []
   },
   "outputs": [
    {
     "name": "stdout",
     "output_type": "stream",
     "text": [
      "Broadcasting Result: [[3 4 5]\n",
      " [6 7 8]]\n"
     ]
    }
   ],
   "source": [
    "# Broadcasting in NumPy\n",
    "array_c = np.array([[1, 2, 3], [4, 5, 6]])\n",
    "scalar_value = 2\n",
    "\n",
    "# Adding a scalar to a 2D array\n",
    "result_broadcasting = array_c + scalar_value\n",
    "print(\"Broadcasting Result:\", result_broadcasting)\n"
   ]
  },
  {
   "cell_type": "markdown",
   "id": "a3964f5b-8a65-4239-98b5-7401e678601c",
   "metadata": {},
   "source": [
    "## `Array-wise Operations`:"
   ]
  },
  {
   "cell_type": "code",
   "execution_count": 5,
   "id": "ff309882-2385-49c1-baae-1a602057f042",
   "metadata": {
    "tags": []
   },
   "outputs": [
    {
     "name": "stdout",
     "output_type": "stream",
     "text": [
      "Matrix Multiplication Result:\n",
      "[[19 22]\n",
      " [43 50]]\n",
      "Dot Product Result:\n",
      "[[19 22]\n",
      " [43 50]]\n"
     ]
    }
   ],
   "source": [
    "# Array-wise operations\n",
    "array_d = np.array([[1, 2], [3, 4]])\n",
    "array_e = np.array([[5, 6], [7, 8]])\n",
    "\n",
    "# Matrix multiplication\n",
    "result_matrix_multiplication = np.matmul(array_d, array_e)\n",
    "print(\"Matrix Multiplication Result:\")\n",
    "print(result_matrix_multiplication)\n",
    "\n",
    "# Dot product\n",
    "result_dot_product = np.dot(array_d, array_e)\n",
    "print(\"Dot Product Result:\")\n",
    "print(result_dot_product)\n"
   ]
  },
  {
   "cell_type": "markdown",
   "id": "7622e193-782e-4083-a8a0-2f4f7c91cff4",
   "metadata": {
    "tags": []
   },
   "source": [
    "## `Mathematical and Statistical Functions`:"
   ]
  },
  {
   "cell_type": "code",
   "execution_count": 7,
   "id": "b412e3cf-466a-4cff-95e7-ee65c5f2f0bf",
   "metadata": {
    "tags": []
   },
   "outputs": [
    {
     "name": "stdout",
     "output_type": "stream",
     "text": [
      "Mean of the Array: 5.5\n",
      "Median of the Array: 5.5\n",
      "Standard Deviation of the Array: 2.8722813232690143\n"
     ]
    }
   ],
   "source": [
    "# Mathematical and statistical functions\n",
    "array_f = np.array([1, 2, 3, 4, 5, 6, 7, 8, 9, 10])\n",
    "\n",
    "# Mean\n",
    "result_mean = np.mean(array_f)\n",
    "print(\"Mean of the Array:\", result_mean)\n",
    "\n",
    "# Median\n",
    "result_median = np.median(array_f)\n",
    "print(\"Median of the Array:\", result_median)\n",
    "\n",
    "# Standard deviation\n",
    "result_std_deviation = np.std(array_f)\n",
    "print(\"Standard Deviation of the Array:\", result_std_deviation)\n"
   ]
  },
  {
   "cell_type": "markdown",
   "id": "a523ed2c-851a-465b-bba8-6486f00dc09a",
   "metadata": {
    "tags": []
   },
   "source": [
    "## `Universal functions`"
   ]
  },
  {
   "cell_type": "code",
   "execution_count": 10,
   "id": "06a70efb-2618-4fb7-974a-244a45f34b03",
   "metadata": {
    "tags": []
   },
   "outputs": [
    {
     "name": "stdout",
     "output_type": "stream",
     "text": [
      "square root - [1.         1.41421356 1.73205081 2.         2.23606798]\n",
      "exponential array - [  2.71828183   7.3890561   20.08553692  54.59815003 148.4131591 ]\n"
     ]
    }
   ],
   "source": [
    "arr = np.array([1, 2, 3, 4, 5])\n",
    "\n",
    "sqrt_arr = np.sqrt(arr) # Square Root\n",
    "print(f'square root - {sqrt_arr}')\n",
    "exp_arr = np.exp(arr) # Exponential\n",
    "print(f'exponential array - {exp_arr}')"
   ]
  },
  {
   "cell_type": "code",
   "execution_count": null,
   "id": "8d7a503a-b1c2-4761-849e-5ab549fc2c27",
   "metadata": {},
   "outputs": [],
   "source": []
  }
 ],
 "metadata": {
  "kernelspec": {
   "display_name": "Python 3 (ipykernel)",
   "language": "python",
   "name": "python3"
  },
  "language_info": {
   "codemirror_mode": {
    "name": "ipython",
    "version": 3
   },
   "file_extension": ".py",
   "mimetype": "text/x-python",
   "name": "python",
   "nbconvert_exporter": "python",
   "pygments_lexer": "ipython3",
   "version": "3.11.5"
  },
  "widgets": {
   "application/vnd.jupyter.widget-state+json": {
    "state": {},
    "version_major": 2,
    "version_minor": 0
   }
  }
 },
 "nbformat": 4,
 "nbformat_minor": 5
}
