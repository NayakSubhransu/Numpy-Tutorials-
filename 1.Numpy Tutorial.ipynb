{
 "cells": [
  {
   "cell_type": "markdown",
   "id": "1fbfc458-2ab9-42cb-bb14-fd0d7dfc5303",
   "metadata": {},
   "source": [
    "# **Numpy Array Basics**"
   ]
  },
  {
   "cell_type": "markdown",
   "id": "89ad0e44-c477-4f97-8589-31a5cc5f959c",
   "metadata": {},
   "source": [
    "### Arrays are similar to lists in Python, except that every element of an array must be of the same type, typically a numeric type like float or int. Arrays make operations with large amounts of numeric data very fast and are generally much more efficient than lists."
   ]
  },
  {
   "cell_type": "code",
   "execution_count": 2,
   "id": "903accce-ca62-4bd6-9f1e-37c01b35dac8",
   "metadata": {
    "tags": []
   },
   "outputs": [],
   "source": [
    "import numpy as np"
   ]
  },
  {
   "cell_type": "code",
   "execution_count": 3,
   "id": "bb249008-8c9f-4764-81d8-e5ed33f4e66e",
   "metadata": {
    "tags": []
   },
   "outputs": [
    {
     "data": {
      "text/plain": [
       "array([1, 2, 3])"
      ]
     },
     "execution_count": 3,
     "metadata": {},
     "output_type": "execute_result"
    }
   ],
   "source": [
    "# Creating an integer array with explicit dtype, which is not necessary.\n",
    "int_array = np.array([1, 2, 3], dtype=np.int32)\n",
    "int_array\n"
   ]
  },
  {
   "cell_type": "code",
   "execution_count": 5,
   "id": "92d9d9f0-a80e-4774-acb4-25d06301ade2",
   "metadata": {
    "tags": []
   },
   "outputs": [
    {
     "data": {
      "text/plain": [
       "array([[1, 2, 3],\n",
       "       [4, 5, 6]])"
      ]
     },
     "execution_count": 5,
     "metadata": {},
     "output_type": "execute_result"
    }
   ],
   "source": [
    "# Create an 2D array\n",
    "original_array = np.array([[1, 2, 3],\n",
    " [4, 5, 6]])\n",
    "original_array\n"
   ]
  },
  {
   "cell_type": "code",
   "execution_count": 6,
   "id": "50ced5cc-78a8-4100-97e1-14effc4a851b",
   "metadata": {
    "tags": []
   },
   "outputs": [
    {
     "data": {
      "text/plain": [
       "array([[[1, 2],\n",
       "        [3, 4]],\n",
       "\n",
       "       [[5, 6],\n",
       "        [7, 8]]])"
      ]
     },
     "execution_count": 6,
     "metadata": {},
     "output_type": "execute_result"
    }
   ],
   "source": [
    "# Creating a 3D array (Tensor) # Dimension: 3 , Shape: (2, 2, 2)\n",
    "arr_3d = np.array([[[1, 2], [3, 4]], [[5, 6], [7, 8]]])\n",
    "arr_3d"
   ]
  },
  {
   "cell_type": "markdown",
   "id": "7239bbc1-4906-47cc-96a3-ad253d80ac88",
   "metadata": {
    "jp-MarkdownHeadingCollapsed": true,
    "tags": []
   },
   "source": [
    "## `linspace()` \n",
    "- linspace() is a NumPy function that is used to create an array of evenly spaced numbers over a specified interval. It is particularly useful when you want to generate a specific number of points between two values. The syntax for linspace() is as follows:\n",
    "\n",
    " ### `np.linspace(start, stop, num=50, endpoint=True, retstep=False, dtype=None, axis=0)`\n"
   ]
  },
  {
   "cell_type": "code",
   "execution_count": 7,
   "id": "5067b883-0284-4d6b-8970-5329a2dc5d8d",
   "metadata": {
    "tags": []
   },
   "outputs": [
    {
     "data": {
      "text/plain": [
       "array([0.        , 0.11111111, 0.22222222, 0.33333333, 0.44444444,\n",
       "       0.55555556, 0.66666667, 0.77777778, 0.88888889, 1.        ])"
      ]
     },
     "execution_count": 7,
     "metadata": {},
     "output_type": "execute_result"
    }
   ],
   "source": [
    "# Create an array of 10 equally spaced values from 0 to 1\n",
    "linspace_arr = np.linspace(0, 1, 10)\n",
    "linspace_arr"
   ]
  },
  {
   "cell_type": "markdown",
   "id": "e242948a-84da-4787-b881-d01ebab2f6c4",
   "metadata": {},
   "source": [
    "## `logspace()`\n",
    "- logspace() function in NumPy is used to create an array of numbers that are evenly spaced on a logarithmic scale. This is particularly useful when you need a set of numbers that are evenly spaced in a logarithmic space, such as for generating logarithmic plots.The syntax for logspace() is as follows:\n",
    "\n",
    "### `np.logspace(start, stop, num=50, endpoint=True, base=10.0, dtype=None, axis=0)`"
   ]
  },
  {
   "cell_type": "code",
   "execution_count": 8,
   "id": "f81cde6e-cc8e-488b-ac20-b0d2ab67c8b1",
   "metadata": {
    "tags": []
   },
   "outputs": [
    {
     "data": {
      "text/plain": [
       "array([  1.        ,   3.16227766,  10.        ,  31.6227766 ,\n",
       "       100.        ])"
      ]
     },
     "execution_count": 8,
     "metadata": {},
     "output_type": "execute_result"
    }
   ],
   "source": [
    "# Create an array of 5 values spaced logarithmically from 1 to 100\n",
    "logspace_arr = np.logspace(0, 2, 5)\n",
    "logspace_arr\n"
   ]
  },
  {
   "cell_type": "markdown",
   "id": "5d82e977-6e7b-4bc2-81a3-cf69fedcd3c0",
   "metadata": {},
   "source": [
    "## `np.arange()`"
   ]
  },
  {
   "cell_type": "code",
   "execution_count": 9,
   "id": "17197b94-34eb-4507-9a44-d9c6d36a9e82",
   "metadata": {
    "tags": []
   },
   "outputs": [
    {
     "data": {
      "text/plain": [
       "array([0, 2, 4, 6, 8])"
      ]
     },
     "execution_count": 9,
     "metadata": {},
     "output_type": "execute_result"
    }
   ],
   "source": [
    " # Create an array of values from 0 to 9 with a step size of 2\n",
    "arange_arr = np.arange(0, 10, 2)\n",
    "arange_arr\n"
   ]
  },
  {
   "cell_type": "markdown",
   "id": "b1099ff9-2ebc-4006-a8e1-5535512715df",
   "metadata": {
    "tags": []
   },
   "source": [
    "## `np.zeros()`"
   ]
  },
  {
   "cell_type": "code",
   "execution_count": 10,
   "id": "982d6467-63bd-4e41-ac43-4164fcb09391",
   "metadata": {
    "tags": []
   },
   "outputs": [
    {
     "data": {
      "text/plain": [
       "array([[0., 0., 0.],\n",
       "       [0., 0., 0.],\n",
       "       [0., 0., 0.]])"
      ]
     },
     "execution_count": 10,
     "metadata": {},
     "output_type": "execute_result"
    }
   ],
   "source": [
    " # Create a 3x3 array filled with zeros\n",
    "zeros_arr = np.zeros((3, 3))\n",
    "zeros_arr\n"
   ]
  },
  {
   "cell_type": "markdown",
   "id": "7a7efe75-0a58-4b1a-a65f-32b7391cdc15",
   "metadata": {
    "tags": []
   },
   "source": [
    "## `np.ones()`"
   ]
  },
  {
   "cell_type": "code",
   "execution_count": 12,
   "id": "4585f44a-dc5d-48ac-b475-e10268ee37c3",
   "metadata": {
    "tags": []
   },
   "outputs": [
    {
     "data": {
      "text/plain": [
       "array([[1., 1., 1., 1.],\n",
       "       [1., 1., 1., 1.]])"
      ]
     },
     "execution_count": 12,
     "metadata": {},
     "output_type": "execute_result"
    }
   ],
   "source": [
    "# Create a 2x4 array filled with ones\n",
    "ones_arr = np.ones((2, 4))\n",
    "ones_arr"
   ]
  },
  {
   "cell_type": "code",
   "execution_count": 13,
   "id": "da35c67c-63cc-4945-bda1-4baa8d587162",
   "metadata": {
    "tags": []
   },
   "outputs": [
    {
     "data": {
      "text/plain": [
       "array([[0, 0, 0],\n",
       "       [0, 0, 0]])"
      ]
     },
     "execution_count": 13,
     "metadata": {},
     "output_type": "execute_result"
    }
   ],
   "source": [
    "# Create a new array filled with zeros,\n",
    "# matching the shape and data type of the original array\n",
    "zeros_array = np.zeros_like(original_array)\n",
    "zeros_array\n"
   ]
  },
  {
   "cell_type": "code",
   "execution_count": 14,
   "id": "9c7372b8-c827-4743-b7ce-768e71ebcdc6",
   "metadata": {
    "tags": []
   },
   "outputs": [
    {
     "data": {
      "text/plain": [
       "array([[0, 0, 0],\n",
       "       [0, 0, 0]])"
      ]
     },
     "execution_count": 14,
     "metadata": {},
     "output_type": "execute_result"
    }
   ],
   "source": [
    "# Create a new array filled with zeros,\n",
    "# matching the shape and data type of the original array\n",
    "zeros_array = np.zeros_like(original_array)\n",
    "zeros_array\n"
   ]
  },
  {
   "cell_type": "markdown",
   "id": "c2b21115-031c-4e20-bc5b-3861b849091d",
   "metadata": {},
   "source": [
    "## NumPy Arrays from Lists:"
   ]
  },
  {
   "cell_type": "code",
   "execution_count": 18,
   "id": "a6f2dfec-319e-441e-9763-d566793ee45e",
   "metadata": {
    "tags": []
   },
   "outputs": [
    {
     "name": "stdout",
     "output_type": "stream",
     "text": [
      "1D Array: [1 2 3 4 5]\n"
     ]
    }
   ],
   "source": [
    "# Creating a 1D array from a Python list\n",
    "my_list = [1, 2, 3, 4, 5]\n",
    "array_1d = np.array(my_list)\n",
    "print(\"1D Array:\", array_1d)\n"
   ]
  },
  {
   "cell_type": "code",
   "execution_count": 19,
   "id": "0973b779-12a8-4df3-8720-272dc7b97669",
   "metadata": {
    "tags": []
   },
   "outputs": [
    {
     "name": "stdout",
     "output_type": "stream",
     "text": [
      "2D Array:\n",
      "[[1 2 3]\n",
      " [4 5 6]\n",
      " [7 8 9]]\n"
     ]
    }
   ],
   "source": [
    "# Creating a 2D array from a nested list\n",
    "my_nested_list = [[1, 2, 3], [4, 5, 6], [7, 8, 9]]\n",
    "array_2d = np.array(my_nested_list)\n",
    "print(\"2D Array:\")\n",
    "print(array_2d)\n"
   ]
  },
  {
   "cell_type": "markdown",
   "id": "1f553d9e-66e8-4304-801b-b822fdde1bc3",
   "metadata": {},
   "source": [
    "##  Array Dimension and Shapes\n"
   ]
  },
  {
   "cell_type": "code",
   "execution_count": 20,
   "id": "bdb24f2b-29ae-4a02-b0a0-88c9587c3a63",
   "metadata": {
    "tags": []
   },
   "outputs": [
    {
     "name": "stdout",
     "output_type": "stream",
     "text": [
      "Dimension: 1, Shape: (3,), size: 3\n"
     ]
    }
   ],
   "source": [
    " # Creating a 1D array (Vector)\n",
    "arr_1d = np.array([1, 2, 3])\n",
    "# Dimesion: 1 , Shape: (3,), Size: 3\n",
    "print(f\"Dimension: {arr_1d.ndim}, Shape: {arr_1d.shape}, size: {arr_1d.size}\")\n"
   ]
  },
  {
   "cell_type": "code",
   "execution_count": 31,
   "id": "265ec83b-9184-4942-a672-eff8d2cb0366",
   "metadata": {
    "tags": []
   },
   "outputs": [
    {
     "data": {
      "text/plain": [
       "(5, 2)"
      ]
     },
     "execution_count": 31,
     "metadata": {},
     "output_type": "execute_result"
    }
   ],
   "source": [
    "a = np.array(range(10), float)\n",
    "a = a.reshape((5, 2))\n",
    "a.shape"
   ]
  },
  {
   "cell_type": "code",
   "execution_count": 32,
   "id": "cadc9387-27dc-4c0b-89c4-63fbae40a8b3",
   "metadata": {
    "tags": []
   },
   "outputs": [
    {
     "data": {
      "text/plain": [
       "2"
      ]
     },
     "execution_count": 32,
     "metadata": {},
     "output_type": "execute_result"
    }
   ],
   "source": [
    "a.ndim"
   ]
  },
  {
   "cell_type": "markdown",
   "id": "c95e4f31-27ea-43a5-8559-0b0db6584773",
   "metadata": {},
   "source": [
    "## Array Slicing and Indexing:"
   ]
  },
  {
   "cell_type": "code",
   "execution_count": 35,
   "id": "4cb1b319-02ae-47f0-9447-0c431891e834",
   "metadata": {
    "tags": []
   },
   "outputs": [
    {
     "data": {
      "text/plain": [
       "array([20, 30, 40])"
      ]
     },
     "execution_count": 35,
     "metadata": {},
     "output_type": "execute_result"
    }
   ],
   "source": [
    "arr = np.array([10, 20, 30, 40, 50])\n",
    "\n",
    "# Slicing the array to create a new array\n",
    "sliced_array = arr[1:4] # Slice from index 1 to 3 (exclusive) [20,30,40]\n",
    "sliced_array"
   ]
  },
  {
   "cell_type": "code",
   "execution_count": 36,
   "id": "199e728b-6482-4882-9087-2347cd6d66f1",
   "metadata": {
    "tags": []
   },
   "outputs": [
    {
     "data": {
      "text/plain": [
       "array([20, 30, 40])"
      ]
     },
     "execution_count": 36,
     "metadata": {},
     "output_type": "execute_result"
    }
   ],
   "source": [
    "# Slicing the array to create a new array\n",
    "sliced_array = arr[1:4] # Slice from index 1 to 3 (exclusive) [20,30,40]\n",
    "sliced_array"
   ]
  },
  {
   "cell_type": "code",
   "execution_count": 37,
   "id": "dead1a66-3e89-4cd0-9d9f-a9ef4488bbfb",
   "metadata": {
    "tags": []
   },
   "outputs": [
    {
     "data": {
      "text/plain": [
       "array([20, 30, 40])"
      ]
     },
     "execution_count": 37,
     "metadata": {},
     "output_type": "execute_result"
    }
   ],
   "source": [
    "# Slicing the array to create a new array\n",
    "sliced_array = arr[1:4] # Slice from index 1 to 3 (exclusive) [20,30,40]\n",
    "sliced_array"
   ]
  },
  {
   "cell_type": "code",
   "execution_count": 38,
   "id": "f0791b80-5334-4c1e-975d-6c59a57d701c",
   "metadata": {
    "tags": []
   },
   "outputs": [
    {
     "data": {
      "text/plain": [
       "array([20, 30, 40])"
      ]
     },
     "execution_count": 38,
     "metadata": {},
     "output_type": "execute_result"
    }
   ],
   "source": [
    "# Slicing the array to create a new array\n",
    "sliced_array = arr[1:4] # Slice from index 1 to 3 (exclusive) [20,30,40]\n",
    "sliced_array"
   ]
  },
  {
   "cell_type": "code",
   "execution_count": 39,
   "id": "7a0b2d30-5274-4d48-8e6e-845f418367dd",
   "metadata": {
    "tags": []
   },
   "outputs": [
    {
     "data": {
      "text/plain": [
       "array([[4, 5],\n",
       "       [7, 8]])"
      ]
     },
     "execution_count": 39,
     "metadata": {},
     "output_type": "execute_result"
    }
   ],
   "source": [
    "# Creating a 2D NumPy array\n",
    "arr_2d = np.array([[1, 2, 3], [4, 5, 6], [7, 8, 9]])\n",
    "# Slicing along rows and columns\n",
    "sliced_array = arr_2d[1:3, 0:2] # Slice a 2x2 subarray: [[4, 5], [7, 8]]\n",
    "sliced_array"
   ]
  },
  {
   "cell_type": "code",
   "execution_count": 40,
   "id": "dbeaa37a-94c7-4f66-bc63-ddf5563aa5ad",
   "metadata": {
    "tags": []
   },
   "outputs": [
    {
     "name": "stdout",
     "output_type": "stream",
     "text": [
      "Sliced 1D Array: [3 4 5]\n",
      "Sliced 1D Array from the start: [1 2 3 4 5 6]\n",
      "Sliced 1D Array till the end: [ 6  7  8  9 10]\n",
      "Sliced 1D Array with a step of 2: [2 4 6 8]\n"
     ]
    }
   ],
   "source": [
    "# Creating a 1D array\n",
    "array_1d = np.array([1, 2, 3, 4, 5, 6, 7, 8, 9, 10])\n",
    "\n",
    "# Slicing elements from index 2 to index 5 (exclusive)\n",
    "sliced_array = array_1d[2:5]\n",
    "print(\"Sliced 1D Array:\", sliced_array)\n",
    "\n",
    "# Slicing elements from the beginning up to index 6\n",
    "sliced_array_start = array_1d[:6]\n",
    "print(\"Sliced 1D Array from the start:\", sliced_array_start)\n",
    "\n",
    "# Slicing elements from index 5 to the end\n",
    "sliced_array_end = array_1d[5:]\n",
    "print(\"Sliced 1D Array till the end:\", sliced_array_end)\n",
    "\n",
    "# Using a step in the slice\n",
    "sliced_array_step = array_1d[1:8:2]  # start:stop:step\n",
    "print(\"Sliced 1D Array with a step of 2:\", sliced_array_step)\n"
   ]
  },
  {
   "cell_type": "code",
   "execution_count": 41,
   "id": "e7ee7791-d45c-4996-a978-bc1298c136fd",
   "metadata": {
    "tags": []
   },
   "outputs": [
    {
     "name": "stdout",
     "output_type": "stream",
     "text": [
      "Sliced 2D Array:\n",
      "[[2 3]\n",
      " [5 6]]\n",
      "Sliced 2D Array with all rows and column 2: [3 6 9]\n",
      "Sliced 2D Array with row 1 and all columns: [4 5 6]\n"
     ]
    }
   ],
   "source": [
    "# Creating a 2D array\n",
    "array_2d = np.array([[1, 2, 3], [4, 5, 6], [7, 8, 9]])\n",
    "\n",
    "# Slicing elements from rows 0 to 1 and columns 1 to 2\n",
    "sliced_2d_array = array_2d[0:2, 1:3]\n",
    "print(\"Sliced 2D Array:\")\n",
    "print(sliced_2d_array)\n",
    "\n",
    "# Slicing elements from all rows and column 2\n",
    "sliced_2d_array_column = array_2d[:, 2]\n",
    "print(\"Sliced 2D Array with all rows and column 2:\", sliced_2d_array_column)\n",
    "\n",
    "# Slicing elements from row 1 and all columns\n",
    "sliced_2d_array_row = array_2d[1, :]\n",
    "print(\"Sliced 2D Array with row 1 and all columns:\", sliced_2d_array_row)\n"
   ]
  },
  {
   "cell_type": "code",
   "execution_count": null,
   "id": "d37eb54e-5578-437f-bacf-949cf604b74c",
   "metadata": {},
   "outputs": [],
   "source": []
  }
 ],
 "metadata": {
  "kernelspec": {
   "display_name": "Python 3 (ipykernel)",
   "language": "python",
   "name": "python3"
  },
  "language_info": {
   "codemirror_mode": {
    "name": "ipython",
    "version": 3
   },
   "file_extension": ".py",
   "mimetype": "text/x-python",
   "name": "python",
   "nbconvert_exporter": "python",
   "pygments_lexer": "ipython3",
   "version": "3.11.5"
  },
  "widgets": {
   "application/vnd.jupyter.widget-state+json": {
    "state": {},
    "version_major": 2,
    "version_minor": 0
   }
  }
 },
 "nbformat": 4,
 "nbformat_minor": 5
}
